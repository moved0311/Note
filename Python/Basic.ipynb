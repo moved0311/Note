{
 "cells": [
  {
   "cell_type": "markdown",
   "id": "orange-malawi",
   "metadata": {},
   "source": [
    "# enumerate"
   ]
  },
  {
   "cell_type": "code",
   "execution_count": 15,
   "id": "artistic-server",
   "metadata": {},
   "outputs": [
    {
     "name": "stdout",
     "output_type": "stream",
     "text": [
      "0 1\n",
      "1 6\n",
      "2 4\n",
      "3 2\n"
     ]
    }
   ],
   "source": [
    "nums = [1, 6, 4, 2]\n",
    "\n",
    "for index, num in enumerate(nums):\n",
    "    print(index, num)"
   ]
  },
  {
   "cell_type": "markdown",
   "id": "roman-plymouth",
   "metadata": {},
   "source": [
    "# bisect"
   ]
  },
  {
   "cell_type": "code",
   "execution_count": 31,
   "id": "devoted-greenhouse",
   "metadata": {},
   "outputs": [
    {
     "data": {
      "text/plain": [
       "3"
      ]
     },
     "execution_count": 31,
     "metadata": {},
     "output_type": "execute_result"
    }
   ],
   "source": [
    "import bisect\n",
    "\n",
    "nums = [1, 2, 4, 6, 8, 9]\n",
    "\n",
    "bisect.bisect_right(nums, 6) # 4\n",
    "bisect.bisect_left(nums, 6)  # 3"
   ]
  }
 ],
 "metadata": {
  "kernelspec": {
   "display_name": "Python 3",
   "language": "python",
   "name": "python3"
  },
  "language_info": {
   "codemirror_mode": {
    "name": "ipython",
    "version": 3
   },
   "file_extension": ".py",
   "mimetype": "text/x-python",
   "name": "python",
   "nbconvert_exporter": "python",
   "pygments_lexer": "ipython3",
   "version": "3.9.1"
  }
 },
 "nbformat": 4,
 "nbformat_minor": 5
}
