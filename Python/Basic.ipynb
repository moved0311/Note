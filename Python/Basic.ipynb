{
 "cells": [
  {
   "cell_type": "markdown",
   "id": "orange-malawi",
   "metadata": {},
   "source": [
    "# enumerate"
   ]
  },
  {
   "cell_type": "code",
   "execution_count": 15,
   "id": "artistic-server",
   "metadata": {},
   "outputs": [
    {
     "name": "stdout",
     "output_type": "stream",
     "text": [
      "0 1\n",
      "1 6\n",
      "2 4\n",
      "3 2\n"
     ]
    }
   ],
   "source": [
    "nums = [1, 6, 4, 2]\n",
    "\n",
    "for index, num in enumerate(nums):\n",
    "    print(index, num)"
   ]
  },
  {
   "cell_type": "markdown",
   "id": "roman-plymouth",
   "metadata": {},
   "source": [
    "# bisect"
   ]
  },
  {
   "cell_type": "code",
   "execution_count": 31,
   "id": "devoted-greenhouse",
   "metadata": {},
   "outputs": [
    {
     "data": {
      "text/plain": [
       "3"
      ]
     },
     "execution_count": 31,
     "metadata": {},
     "output_type": "execute_result"
    }
   ],
   "source": [
    "import bisect\n",
    "\n",
    "nums = [1, 2, 4, 6, 8, 9]\n",
    "\n",
    "bisect.bisect_right(nums, 6) # 4\n",
    "bisect.bisect_left(nums, 6)  # 3"
   ]
  },
  {
   "cell_type": "markdown",
   "id": "23caef8a",
   "metadata": {},
   "source": [
    "## Counter"
   ]
  },
  {
   "cell_type": "code",
   "execution_count": 10,
   "id": "20a87f3c",
   "metadata": {},
   "outputs": [
    {
     "name": "stdout",
     "output_type": "stream",
     "text": [
      "4 5\n"
     ]
    }
   ],
   "source": [
    "from collections import Counter\n",
    "\n",
    "nums = [1, 2, 2, 3, 3, 4, 3, 4, 1, 4, 4, 4]\n",
    "\n",
    "num, freq = Counter(nums).most_common(1)[0]\n",
    "\n",
    "print(num, freq)"
   ]
  }
 ],
 "metadata": {
  "kernelspec": {
   "display_name": "Python 3 (ipykernel)",
   "language": "python",
   "name": "python3"
  },
  "language_info": {
   "codemirror_mode": {
    "name": "ipython",
    "version": 3
   },
   "file_extension": ".py",
   "mimetype": "text/x-python",
   "name": "python",
   "nbconvert_exporter": "python",
   "pygments_lexer": "ipython3",
   "version": "3.9.16"
  }
 },
 "nbformat": 4,
 "nbformat_minor": 5
}
