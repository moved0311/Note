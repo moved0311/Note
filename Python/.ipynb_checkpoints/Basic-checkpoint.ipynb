{
 "cells": [
  {
   "cell_type": "markdown",
   "id": "amber-nitrogen",
   "metadata": {},
   "source": [
    "## String"
   ]
  },
  {
   "cell_type": "code",
   "execution_count": 13,
   "id": "municipal-confirmation",
   "metadata": {},
   "outputs": [
    {
     "data": {
      "text/plain": [
       "'abc'"
      ]
     },
     "execution_count": 13,
     "metadata": {},
     "output_type": "execute_result"
    }
   ],
   "source": [
    "word = \"abcdefg\"\n",
    "\n",
    "word[0:3]"
   ]
  },
  {
   "cell_type": "markdown",
   "id": "orange-malawi",
   "metadata": {},
   "source": [
    "## For loop"
   ]
  },
  {
   "cell_type": "code",
   "execution_count": 4,
   "id": "wrapped-thinking",
   "metadata": {},
   "outputs": [
    {
     "name": "stdout",
     "output_type": "stream",
     "text": [
      "0 aaa\n",
      "1 cb\n",
      "2 a\n",
      "3 ab\n",
      "4 abc\n"
     ]
    }
   ],
   "source": [
    "strs = [\"aaa\",\"cb\", \"a\", \"ab\", \"abc\"]\n",
    "\n",
    "for i in range(len(strs)):\n",
    "    print(i, strs[i])"
   ]
  },
  {
   "cell_type": "code",
   "execution_count": 10,
   "id": "worse-insider",
   "metadata": {},
   "outputs": [
    {
     "name": "stdout",
     "output_type": "stream",
     "text": [
      "5\n",
      "4\n",
      "3\n",
      "2\n"
     ]
    }
   ],
   "source": [
    "for i in range(5, 1, -1):\n",
    "    print(i)"
   ]
  },
  {
   "cell_type": "code",
   "execution_count": 1,
   "id": "artistic-server",
   "metadata": {},
   "outputs": [
    {
     "name": "stdout",
     "output_type": "stream",
     "text": [
      "0 1\n",
      "1 6\n",
      "2 4\n",
      "3 2\n"
     ]
    }
   ],
   "source": [
    "nums = [1, 6, 4, 2]\n",
    "\n",
    "for index, num in enumerate(nums):\n",
    "    print(index, num)"
   ]
  },
  {
   "cell_type": "markdown",
   "id": "roman-plymouth",
   "metadata": {},
   "source": [
    "# bisect"
   ]
  },
  {
   "cell_type": "code",
   "execution_count": 31,
   "id": "devoted-greenhouse",
   "metadata": {},
   "outputs": [
    {
     "data": {
      "text/plain": [
       "3"
      ]
     },
     "execution_count": 31,
     "metadata": {},
     "output_type": "execute_result"
    }
   ],
   "source": [
    "import bisect\n",
    "\n",
    "nums = [1, 2, 4, 6, 8, 9]\n",
    "\n",
    "bisect.bisect_right(nums, 6) # 4\n",
    "bisect.bisect_left(nums, 6)  # 3"
   ]
  },
  {
   "cell_type": "markdown",
   "id": "23caef8a",
   "metadata": {},
   "source": [
    "## Counter"
   ]
  },
  {
   "cell_type": "code",
   "execution_count": 10,
   "id": "20a87f3c",
   "metadata": {},
   "outputs": [
    {
     "name": "stdout",
     "output_type": "stream",
     "text": [
      "4 5\n"
     ]
    }
   ],
   "source": [
    "from collections import Counter\n",
    "\n",
    "nums = [1, 2, 2, 3, 3, 4, 3, 4, 1, 4, 4, 4]\n",
    "\n",
    "num, freq = Counter(nums).most_common(1)[0]\n",
    "\n",
    "print(num, freq)"
   ]
  },
  {
   "cell_type": "markdown",
   "id": "chief-course",
   "metadata": {},
   "source": [
    "## Set"
   ]
  },
  {
   "cell_type": "code",
   "execution_count": 16,
   "id": "iraqi-collaboration",
   "metadata": {},
   "outputs": [
    {
     "data": {
      "text/plain": [
       "True"
      ]
     },
     "execution_count": 16,
     "metadata": {},
     "output_type": "execute_result"
    }
   ],
   "source": [
    "strs = [\"aaa\",\"cb\", \"a\", \"ab\", \"abc\", \"a\", \"ab\"]\n",
    "\n",
    "wordDict = set(strs) # {'a', 'aaa', 'ab', 'abc', 'cb'}\n",
    "\n",
    "'a' in wordDict"
   ]
  }
 ],
 "metadata": {
  "kernelspec": {
   "display_name": "Python 3",
   "language": "python",
   "name": "python3"
  },
  "language_info": {
   "codemirror_mode": {
    "name": "ipython",
    "version": 3
   },
   "file_extension": ".py",
   "mimetype": "text/x-python",
   "name": "python",
   "nbconvert_exporter": "python",
   "pygments_lexer": "ipython3",
   "version": "3.9.1"
  }
 },
 "nbformat": 4,
 "nbformat_minor": 5
}
